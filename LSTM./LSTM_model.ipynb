{
 "cells": [
  {
   "cell_type": "code",
   "execution_count": 1,
   "metadata": {},
   "outputs": [],
   "source": [
    "import torch\n",
    "import torch.nn as nn\n",
    "\n",
    "import seaborn as sns\n",
    "import numpy as np\n",
    "import pandas as pd\n",
    "import matplotlib.pyplot as plt\n",
    "%matplotlib inline"
   ]
  },
  {
   "cell_type": "code",
   "execution_count": 3,
   "metadata": {},
   "outputs": [],
   "source": [
    "df=pd.read_csv(r\"C:\\Users\\mypc\\Downloads\\Forecasting_COVID-19-master (1)\\Forecasting_COVID-19-master\\Dataset\\case_time_series_final.csv\")"
   ]
  },
  {
   "cell_type": "code",
   "execution_count": 4,
   "metadata": {},
   "outputs": [
    {
     "data": {
      "text/html": [
       "<div>\n",
       "<style scoped>\n",
       "    .dataframe tbody tr th:only-of-type {\n",
       "        vertical-align: middle;\n",
       "    }\n",
       "\n",
       "    .dataframe tbody tr th {\n",
       "        vertical-align: top;\n",
       "    }\n",
       "\n",
       "    .dataframe thead th {\n",
       "        text-align: right;\n",
       "    }\n",
       "</style>\n",
       "<table border=\"1\" class=\"dataframe\">\n",
       "  <thead>\n",
       "    <tr style=\"text-align: right;\">\n",
       "      <th></th>\n",
       "      <th>Date</th>\n",
       "      <th>Date_YMD</th>\n",
       "      <th>Daily Confirmed</th>\n",
       "      <th>Total Confirmed</th>\n",
       "      <th>Daily Recovered</th>\n",
       "      <th>Total Recovered</th>\n",
       "      <th>Daily Deceased</th>\n",
       "      <th>Total Deceased</th>\n",
       "    </tr>\n",
       "  </thead>\n",
       "  <tbody>\n",
       "    <tr>\n",
       "      <th>0</th>\n",
       "      <td>30-Jan</td>\n",
       "      <td>30/01/2020</td>\n",
       "      <td>1</td>\n",
       "      <td>1</td>\n",
       "      <td>0</td>\n",
       "      <td>0</td>\n",
       "      <td>0</td>\n",
       "      <td>0</td>\n",
       "    </tr>\n",
       "    <tr>\n",
       "      <th>1</th>\n",
       "      <td>31-Jan</td>\n",
       "      <td>31/01/2020</td>\n",
       "      <td>0</td>\n",
       "      <td>1</td>\n",
       "      <td>0</td>\n",
       "      <td>0</td>\n",
       "      <td>0</td>\n",
       "      <td>0</td>\n",
       "    </tr>\n",
       "    <tr>\n",
       "      <th>2</th>\n",
       "      <td>01-Feb</td>\n",
       "      <td>01/02/2020</td>\n",
       "      <td>0</td>\n",
       "      <td>1</td>\n",
       "      <td>0</td>\n",
       "      <td>0</td>\n",
       "      <td>0</td>\n",
       "      <td>0</td>\n",
       "    </tr>\n",
       "    <tr>\n",
       "      <th>3</th>\n",
       "      <td>02-Feb</td>\n",
       "      <td>02/02/2020</td>\n",
       "      <td>1</td>\n",
       "      <td>2</td>\n",
       "      <td>0</td>\n",
       "      <td>0</td>\n",
       "      <td>0</td>\n",
       "      <td>0</td>\n",
       "    </tr>\n",
       "    <tr>\n",
       "      <th>4</th>\n",
       "      <td>03-Feb</td>\n",
       "      <td>03/02/2020</td>\n",
       "      <td>1</td>\n",
       "      <td>3</td>\n",
       "      <td>0</td>\n",
       "      <td>0</td>\n",
       "      <td>0</td>\n",
       "      <td>0</td>\n",
       "    </tr>\n",
       "    <tr>\n",
       "      <th>...</th>\n",
       "      <td>...</td>\n",
       "      <td>...</td>\n",
       "      <td>...</td>\n",
       "      <td>...</td>\n",
       "      <td>...</td>\n",
       "      <td>...</td>\n",
       "      <td>...</td>\n",
       "      <td>...</td>\n",
       "    </tr>\n",
       "    <tr>\n",
       "      <th>276</th>\n",
       "      <td>01-Nov</td>\n",
       "      <td>01/11/2020</td>\n",
       "      <td>45928</td>\n",
       "      <td>8229245</td>\n",
       "      <td>53312</td>\n",
       "      <td>7542738</td>\n",
       "      <td>491</td>\n",
       "      <td>122050</td>\n",
       "    </tr>\n",
       "    <tr>\n",
       "      <th>277</th>\n",
       "      <td>02-Nov</td>\n",
       "      <td>02/11/2020</td>\n",
       "      <td>37592</td>\n",
       "      <td>8266837</td>\n",
       "      <td>58524</td>\n",
       "      <td>7601262</td>\n",
       "      <td>498</td>\n",
       "      <td>122548</td>\n",
       "    </tr>\n",
       "    <tr>\n",
       "      <th>278</th>\n",
       "      <td>03-Nov</td>\n",
       "      <td>03/11/2020</td>\n",
       "      <td>46027</td>\n",
       "      <td>8312864</td>\n",
       "      <td>53328</td>\n",
       "      <td>7654590</td>\n",
       "      <td>510</td>\n",
       "      <td>123058</td>\n",
       "    </tr>\n",
       "    <tr>\n",
       "      <th>279</th>\n",
       "      <td>04-Nov</td>\n",
       "      <td>04/11/2020</td>\n",
       "      <td>50465</td>\n",
       "      <td>8363329</td>\n",
       "      <td>55873</td>\n",
       "      <td>7710463</td>\n",
       "      <td>707</td>\n",
       "      <td>123765</td>\n",
       "    </tr>\n",
       "    <tr>\n",
       "      <th>280</th>\n",
       "      <td>05-Nov</td>\n",
       "      <td>05/11/2020</td>\n",
       "      <td>47628</td>\n",
       "      <td>8410957</td>\n",
       "      <td>54133</td>\n",
       "      <td>7764596</td>\n",
       "      <td>672</td>\n",
       "      <td>124437</td>\n",
       "    </tr>\n",
       "  </tbody>\n",
       "</table>\n",
       "<p>281 rows × 8 columns</p>\n",
       "</div>"
      ],
      "text/plain": [
       "       Date    Date_YMD  Daily Confirmed  Total Confirmed  Daily Recovered  \\\n",
       "0    30-Jan  30/01/2020                1                1                0   \n",
       "1    31-Jan  31/01/2020                0                1                0   \n",
       "2    01-Feb  01/02/2020                0                1                0   \n",
       "3    02-Feb  02/02/2020                1                2                0   \n",
       "4    03-Feb  03/02/2020                1                3                0   \n",
       "..      ...         ...              ...              ...              ...   \n",
       "276  01-Nov  01/11/2020            45928          8229245            53312   \n",
       "277  02-Nov  02/11/2020            37592          8266837            58524   \n",
       "278  03-Nov  03/11/2020            46027          8312864            53328   \n",
       "279  04-Nov  04/11/2020            50465          8363329            55873   \n",
       "280  05-Nov  05/11/2020            47628          8410957            54133   \n",
       "\n",
       "     Total Recovered  Daily Deceased  Total Deceased  \n",
       "0                  0               0               0  \n",
       "1                  0               0               0  \n",
       "2                  0               0               0  \n",
       "3                  0               0               0  \n",
       "4                  0               0               0  \n",
       "..               ...             ...             ...  \n",
       "276          7542738             491          122050  \n",
       "277          7601262             498          122548  \n",
       "278          7654590             510          123058  \n",
       "279          7710463             707          123765  \n",
       "280          7764596             672          124437  \n",
       "\n",
       "[281 rows x 8 columns]"
      ]
     },
     "execution_count": 4,
     "metadata": {},
     "output_type": "execute_result"
    }
   ],
   "source": [
    "df"
   ]
  },
  {
   "cell_type": "code",
   "execution_count": 5,
   "metadata": {},
   "outputs": [
    {
     "data": {
      "text/plain": [
       "Index(['Date', 'Date_YMD', 'Daily Confirmed', 'Total Confirmed',\n",
       "       'Daily Recovered', 'Total Recovered', 'Daily Deceased',\n",
       "       'Total Deceased'],\n",
       "      dtype='object')"
      ]
     },
     "execution_count": 5,
     "metadata": {},
     "output_type": "execute_result"
    }
   ],
   "source": [
    "df.columns"
   ]
  },
  {
   "cell_type": "code",
   "execution_count": 6,
   "metadata": {},
   "outputs": [],
   "source": [
    "all_data = df['Daily Confirmed'].values.astype(float)"
   ]
  },
  {
   "cell_type": "code",
   "execution_count": 7,
   "metadata": {},
   "outputs": [
    {
     "name": "stdout",
     "output_type": "stream",
     "text": [
      "[1.0000e+00 0.0000e+00 0.0000e+00 1.0000e+00 1.0000e+00 0.0000e+00\n",
      " 0.0000e+00 0.0000e+00 0.0000e+00 0.0000e+00 0.0000e+00 0.0000e+00\n",
      " 0.0000e+00 0.0000e+00 0.0000e+00 0.0000e+00 0.0000e+00 0.0000e+00\n",
      " 0.0000e+00 0.0000e+00 0.0000e+00 0.0000e+00 0.0000e+00 0.0000e+00\n",
      " 0.0000e+00 0.0000e+00 0.0000e+00 0.0000e+00 0.0000e+00 0.0000e+00\n",
      " 0.0000e+00 0.0000e+00 2.0000e+00 1.0000e+00 2.2000e+01 2.0000e+00\n",
      " 1.0000e+00 3.0000e+00 5.0000e+00 9.0000e+00 1.5000e+01 8.0000e+00\n",
      " 1.0000e+01 1.0000e+01 1.1000e+01 1.0000e+01 1.4000e+01 2.0000e+01\n",
      " 2.5000e+01 2.7000e+01 5.8000e+01 7.8000e+01 6.9000e+01 9.4000e+01\n",
      " 7.4000e+01 8.6000e+01 7.3000e+01 1.5300e+02 1.3600e+02 1.2000e+02\n",
      " 1.8700e+02 3.0900e+02 4.2400e+02 4.8600e+02 5.6000e+02 5.7900e+02\n",
      " 6.0900e+02 4.8400e+02 5.7300e+02 5.6500e+02 8.1300e+02 8.7100e+02\n",
      " 8.5400e+02 7.5800e+02 1.2430e+03 1.0310e+03 8.8600e+02 1.0610e+03\n",
      " 9.2200e+02 1.3710e+03 1.5800e+03 1.2390e+03 1.5370e+03 1.2920e+03\n",
      " 1.6670e+03 1.4080e+03 1.8350e+03 1.6070e+03 1.5680e+03 1.9020e+03\n",
      " 1.7050e+03 1.8010e+03 2.3960e+03 2.5640e+03 2.9520e+03 3.6560e+03\n",
      " 2.9710e+03 3.6020e+03 3.3440e+03 3.3390e+03 3.1750e+03 4.3110e+03\n",
      " 3.5920e+03 3.5620e+03 3.7260e+03 3.9910e+03 3.8080e+03 4.7940e+03\n",
      " 5.0490e+03 4.6280e+03 6.1540e+03 5.7200e+03 6.0230e+03 6.5360e+03\n",
      " 6.6670e+03 7.1110e+03 6.4140e+03 5.9070e+03 7.2460e+03 7.2540e+03\n",
      " 8.1380e+03 8.3640e+03 8.7890e+03 7.7230e+03 8.8120e+03 9.6890e+03\n",
      " 9.8470e+03 9.4720e+03 1.0408e+04 1.0882e+04 8.5360e+03 9.9810e+03\n",
      " 1.1156e+04 1.1135e+04 1.1306e+04 1.2039e+04 1.1405e+04 1.0032e+04\n",
      " 1.1086e+04 1.3108e+04 1.3829e+04 1.4740e+04 1.5918e+04 1.5151e+04\n",
      " 1.3560e+04 1.5656e+04 1.6868e+04 1.8205e+04 1.8255e+04 2.0142e+04\n",
      " 1.9610e+04 1.8339e+04 1.8256e+04 1.9429e+04 2.1947e+04 2.2718e+04\n",
      " 2.4018e+04 2.3942e+04 2.2500e+04 2.3147e+04 2.5561e+04 2.5790e+04\n",
      " 2.7762e+04 2.7757e+04 2.9106e+04 2.8178e+04 2.9917e+04 3.2607e+04\n",
      " 3.5468e+04 3.4820e+04 3.7411e+04 4.0235e+04 3.6806e+04 3.9170e+04\n",
      " 4.5601e+04 4.8443e+04 4.8888e+04 5.0072e+04 4.8932e+04 4.6484e+04\n",
      " 4.9631e+04 5.2479e+04 5.4968e+04 5.7486e+04 5.5117e+04 5.2672e+04\n",
      " 5.0488e+04 5.1282e+04 5.6626e+04 6.2170e+04 6.1455e+04 6.5156e+04\n",
      " 6.2117e+04 5.3016e+04 6.1252e+04 6.7066e+04 6.4141e+04 6.5610e+04\n",
      " 6.3986e+04 5.8096e+04 5.4298e+04 6.5024e+04 6.9196e+04 6.8518e+04\n",
      " 6.9029e+04 7.0067e+04 6.1749e+04 5.9696e+04 6.6873e+04 7.5995e+04\n",
      " 7.6827e+04 7.6657e+04 7.8479e+04 7.9461e+04 6.8766e+04 7.8168e+04\n",
      " 8.2860e+04 8.4156e+04 8.7115e+04 9.0600e+04 9.1725e+04 7.5015e+04\n",
      " 8.9855e+04 9.5536e+04 9.6762e+04 9.7655e+04 9.4414e+04 9.3220e+04\n",
      " 8.1913e+04 9.1098e+04 9.7860e+04 9.6787e+04 9.2973e+04 9.2574e+04\n",
      " 8.7395e+04 7.4493e+04 8.3362e+04 8.6703e+04 8.5921e+04 8.5717e+04\n",
      " 8.8759e+04 8.2770e+04 6.9669e+04 8.0500e+04 8.6748e+04 8.1784e+04\n",
      " 7.9883e+04 7.5479e+04 7.4770e+04 6.0130e+04 7.1869e+04 7.8809e+04\n",
      " 7.0797e+04 7.3305e+04 7.4418e+04 6.7789e+04 5.4262e+04 6.3717e+04\n",
      " 6.7811e+04 6.3441e+04 6.2304e+04 6.1893e+04 5.6519e+04 4.5506e+04\n",
      " 5.4348e+04 5.6264e+04 5.4371e+04 5.3931e+04 5.0366e+04 4.5922e+04\n",
      " 3.6019e+04 4.3036e+04 5.0188e+04 4.8765e+04 4.8117e+04 4.7228e+04\n",
      " 4.5928e+04 3.7592e+04 4.6027e+04 5.0465e+04 4.7628e+04]\n"
     ]
    }
   ],
   "source": [
    "print(all_data)"
   ]
  },
  {
   "cell_type": "code",
   "execution_count": 8,
   "metadata": {},
   "outputs": [],
   "source": [
    "test_data_size = 15\n",
    "\n",
    "train_data = all_data[:-test_data_size]\n",
    "test_data = all_data[-test_data_size:]"
   ]
  },
  {
   "cell_type": "code",
   "execution_count": 9,
   "metadata": {},
   "outputs": [
    {
     "name": "stdout",
     "output_type": "stream",
     "text": [
      "266\n",
      "15\n"
     ]
    }
   ],
   "source": [
    "print(len(train_data))\n",
    "print(len(test_data))"
   ]
  },
  {
   "cell_type": "code",
   "execution_count": 10,
   "metadata": {},
   "outputs": [
    {
     "name": "stdout",
     "output_type": "stream",
     "text": [
      "[54371. 53931. 50366. 45922. 36019. 43036. 50188. 48765. 48117. 47228.\n",
      " 45928. 37592. 46027. 50465. 47628.]\n"
     ]
    }
   ],
   "source": [
    "print(test_data)"
   ]
  },
  {
   "cell_type": "code",
   "execution_count": 11,
   "metadata": {},
   "outputs": [],
   "source": [
    "from sklearn.preprocessing import MinMaxScaler\n",
    "\n",
    "scaler = MinMaxScaler(feature_range=(-1, 1))\n",
    "train_data_normalized = scaler.fit_transform(train_data .reshape(-1, 1))"
   ]
  },
  {
   "cell_type": "code",
   "execution_count": 12,
   "metadata": {},
   "outputs": [
    {
     "name": "stdout",
     "output_type": "stream",
     "text": [
      "[[-0.99997956]\n",
      " [-1.        ]\n",
      " [-1.        ]\n",
      " [-0.99997956]\n",
      " [-0.99997956]]\n",
      "[[ 0.26492949]\n",
      " [ 0.15509912]\n",
      " [-0.06997752]\n",
      " [ 0.11072961]\n",
      " [ 0.14988759]]\n"
     ]
    }
   ],
   "source": [
    "print(train_data_normalized[:5])\n",
    "print(train_data_normalized[-5:])"
   ]
  },
  {
   "cell_type": "code",
   "execution_count": 13,
   "metadata": {},
   "outputs": [],
   "source": [
    "train_data_normalized = torch.FloatTensor(train_data_normalized).view(-1)"
   ]
  },
  {
   "cell_type": "code",
   "execution_count": 14,
   "metadata": {},
   "outputs": [],
   "source": [
    "train_window = 12"
   ]
  },
  {
   "cell_type": "code",
   "execution_count": 15,
   "metadata": {},
   "outputs": [],
   "source": [
    "def create_inout_sequences(input_data, tw):\n",
    "    inout_seq = []\n",
    "    L = len(input_data)\n",
    "    for i in range(L-tw):\n",
    "        train_seq = input_data[i:i+tw]\n",
    "        train_label = input_data[i+tw:i+tw+1]\n",
    "        inout_seq.append((train_seq ,train_label))\n",
    "    return inout_seq"
   ]
  },
  {
   "cell_type": "code",
   "execution_count": 16,
   "metadata": {},
   "outputs": [],
   "source": [
    "train_inout_seq = create_inout_sequences(train_data_normalized, train_window)"
   ]
  },
  {
   "cell_type": "code",
   "execution_count": 17,
   "metadata": {},
   "outputs": [
    {
     "data": {
      "text/plain": [
       "[(tensor([-1.0000, -1.0000, -1.0000, -1.0000, -1.0000, -1.0000, -1.0000, -1.0000,\n",
       "          -1.0000, -1.0000, -1.0000, -1.0000]),\n",
       "  tensor([-1.])),\n",
       " (tensor([-1.0000, -1.0000, -1.0000, -1.0000, -1.0000, -1.0000, -1.0000, -1.0000,\n",
       "          -1.0000, -1.0000, -1.0000, -1.0000]),\n",
       "  tensor([-1.])),\n",
       " (tensor([-1.0000, -1.0000, -1.0000, -1.0000, -1.0000, -1.0000, -1.0000, -1.0000,\n",
       "          -1.0000, -1.0000, -1.0000, -1.0000]),\n",
       "  tensor([-1.])),\n",
       " (tensor([-1.0000, -1.0000, -1.0000, -1.0000, -1.0000, -1.0000, -1.0000, -1.0000,\n",
       "          -1.0000, -1.0000, -1.0000, -1.0000]),\n",
       "  tensor([-1.])),\n",
       " (tensor([-1.0000, -1.0000, -1.0000, -1.0000, -1.0000, -1.0000, -1.0000, -1.0000,\n",
       "          -1.0000, -1.0000, -1.0000, -1.0000]),\n",
       "  tensor([-1.]))]"
      ]
     },
     "execution_count": 17,
     "metadata": {},
     "output_type": "execute_result"
    }
   ],
   "source": [
    "train_inout_seq[:5]"
   ]
  },
  {
   "cell_type": "code",
   "execution_count": 18,
   "metadata": {},
   "outputs": [],
   "source": [
    "class LSTM(nn.Module):\n",
    "    def __init__(self, input_size=1, hidden_layer_size=100, output_size=1):\n",
    "        super().__init__()\n",
    "        self.hidden_layer_size = hidden_layer_size\n",
    "\n",
    "        self.lstm = nn.LSTM(input_size, hidden_layer_size)\n",
    "\n",
    "        self.linear = nn.Linear(hidden_layer_size, output_size)\n",
    "\n",
    "        self.hidden_cell = (torch.zeros(1,1,self.hidden_layer_size),\n",
    "                            torch.zeros(1,1,self.hidden_layer_size))\n",
    "\n",
    "    def forward(self, input_seq):\n",
    "        lstm_out, self.hidden_cell = self.lstm(input_seq.view(len(input_seq) ,1, -1), self.hidden_cell)\n",
    "        predictions = self.linear(lstm_out.view(len(input_seq), -1))\n",
    "        return predictions[-1]"
   ]
  },
  {
   "cell_type": "code",
   "execution_count": 19,
   "metadata": {},
   "outputs": [],
   "source": [
    "model = LSTM()\n",
    "loss_function = nn.MSELoss()\n",
    "optimizer = torch.optim.Adam(model.parameters(), lr=0.001)"
   ]
  },
  {
   "cell_type": "code",
   "execution_count": 20,
   "metadata": {},
   "outputs": [
    {
     "name": "stdout",
     "output_type": "stream",
     "text": [
      "LSTM(\n",
      "  (lstm): LSTM(1, 100)\n",
      "  (linear): Linear(in_features=100, out_features=1, bias=True)\n",
      ")\n"
     ]
    }
   ],
   "source": [
    "print(model)"
   ]
  },
  {
   "cell_type": "code",
   "execution_count": 21,
   "metadata": {},
   "outputs": [
    {
     "name": "stdout",
     "output_type": "stream",
     "text": [
      "epoch:   1 loss: 0.00677672\n",
      "epoch:  26 loss: 0.02101416\n",
      "epoch:  51 loss: 0.01877723\n",
      "epoch:  76 loss: 0.00468525\n",
      "epoch: 101 loss: 0.00588755\n",
      "epoch: 126 loss: 0.01616780\n",
      "epoch: 151 loss: 0.00002288\n",
      "epoch: 176 loss: 0.00012105\n",
      "epoch: 201 loss: 0.00006185\n",
      "epoch: 226 loss: 0.00029897\n",
      "epoch: 251 loss: 0.00241532\n",
      "epoch: 276 loss: 0.00028841\n",
      "epoch: 301 loss: 0.00075626\n",
      "epoch: 326 loss: 0.00030760\n",
      "epoch: 351 loss: 0.00000540\n",
      "epoch: 376 loss: 0.00014023\n",
      "epoch: 401 loss: 0.00012170\n",
      "epoch: 426 loss: 0.00002263\n",
      "epoch: 451 loss: 0.00005795\n",
      "epoch: 476 loss: 0.00021080\n",
      "epoch: 501 loss: 0.00000709\n",
      "epoch: 526 loss: 0.00026368\n",
      "epoch: 551 loss: 0.00062593\n",
      "epoch: 576 loss: 0.00004545\n",
      "epoch: 601 loss: 0.00000501\n",
      "epoch: 626 loss: 0.00110769\n",
      "epoch: 651 loss: 0.00001153\n",
      "epoch: 676 loss: 0.00010542\n",
      "epoch: 701 loss: 0.00009461\n",
      "epoch: 726 loss: 0.00000414\n",
      "epoch: 751 loss: 0.00001630\n",
      "epoch: 776 loss: 0.00015106\n",
      "epoch: 801 loss: 0.00020198\n",
      "epoch: 826 loss: 0.00023263\n",
      "epoch: 851 loss: 0.00038148\n",
      "epoch: 876 loss: 0.00019571\n",
      "epoch: 901 loss: 0.00009315\n",
      "epoch: 926 loss: 0.00000192\n",
      "epoch: 951 loss: 0.00006507\n",
      "epoch: 976 loss: 0.00005114\n",
      "epoch: 999 loss: 0.0000926929\n"
     ]
    }
   ],
   "source": [
    "epochs = 1000\n",
    "\n",
    "for i in range(epochs):\n",
    "    for seq, labels in train_inout_seq:\n",
    "        optimizer.zero_grad()\n",
    "        model.hidden_cell = (torch.zeros(1, 1, model.hidden_layer_size),\n",
    "                        torch.zeros(1, 1, model.hidden_layer_size))\n",
    "\n",
    "        y_pred = model(seq)\n",
    "\n",
    "        single_loss = loss_function(y_pred, labels)\n",
    "        single_loss.backward()\n",
    "        optimizer.step()\n",
    "\n",
    "    if i%25 == 1:\n",
    "        print(f'epoch: {i:3} loss: {single_loss.item():10.8f}')\n",
    "\n",
    "print(f'epoch: {i:3} loss: {single_loss.item():10.10f}')"
   ]
  },
  {
   "cell_type": "code",
   "execution_count": 22,
   "metadata": {},
   "outputs": [
    {
     "name": "stdout",
     "output_type": "stream",
     "text": [
      "[0.5209074020385742, 0.38542816042900085, 0.10897199809551239, 0.30220723152160645, 0.385877788066864, 0.29656651616096497, 0.2733292579650879, 0.26492950320243835, 0.15509912371635437, -0.0699775218963623, 0.11072961241006851, 0.1498875916004181]\n"
     ]
    }
   ],
   "source": [
    "fut_pred = 15\n",
    "\n",
    "test_inputs = train_data_normalized[-train_window:].tolist()\n",
    "print(test_inputs)"
   ]
  },
  {
   "cell_type": "code",
   "execution_count": 23,
   "metadata": {},
   "outputs": [],
   "source": [
    "model.eval()\n",
    "\n",
    "for i in range(fut_pred):\n",
    "    seq = torch.FloatTensor(test_inputs[-train_window:])\n",
    "    with torch.no_grad():\n",
    "        model.hidden = (torch.zeros(1, 1, model.hidden_layer_size),\n",
    "                        torch.zeros(1, 1, model.hidden_layer_size))\n",
    "        test_inputs.append(model(seq).item())"
   ]
  },
  {
   "cell_type": "code",
   "execution_count": 24,
   "metadata": {},
   "outputs": [
    {
     "data": {
      "text/plain": [
       "[0.13861572742462158,\n",
       " 0.06503871083259583,\n",
       " 0.19377580285072327,\n",
       " 0.3352310359477997,\n",
       " 0.252044141292572,\n",
       " 0.2626108229160309,\n",
       " 0.1766619086265564,\n",
       " 0.032252684235572815,\n",
       " 0.0309009850025177,\n",
       " 0.1642974615097046,\n",
       " 0.21463528275489807,\n",
       " 0.19739416241645813]"
      ]
     },
     "execution_count": 24,
     "metadata": {},
     "output_type": "execute_result"
    }
   ],
   "source": [
    "test_inputs[fut_pred:]"
   ]
  },
  {
   "cell_type": "code",
   "execution_count": 25,
   "metadata": {},
   "outputs": [
    {
     "name": "stdout",
     "output_type": "stream",
     "text": [
      "[[56238.21620509]\n",
      " [57557.9413788 ]\n",
      " [57840.66036522]\n",
      " [55712.46754289]\n",
      " [52112.34412104]\n",
      " [58411.45003349]\n",
      " [65332.85458893]\n",
      " [61262.51983345]\n",
      " [61779.54756528]\n",
      " [57574.0671891 ]\n",
      " [50508.12383965]\n",
      " [50441.98519617]\n",
      " [56969.07479167]\n",
      " [59432.1043852 ]\n",
      " [58588.49636704]]\n"
     ]
    }
   ],
   "source": [
    "actual_predictions = scaler.inverse_transform(np.array(test_inputs[train_window:] ).reshape(-1, 1))\n",
    "print(actual_predictions)"
   ]
  },
  {
   "cell_type": "code",
   "execution_count": 26,
   "metadata": {},
   "outputs": [
    {
     "name": "stdout",
     "output_type": "stream",
     "text": [
      "[240 241 242 243 244 245 246 247 248 249 250 251 252 253 254]\n"
     ]
    }
   ],
   "source": [
    "x = np.arange(240, 255, 1)\n",
    "print(x)"
   ]
  },
  {
   "cell_type": "code",
   "execution_count": 27,
   "metadata": {},
   "outputs": [
    {
     "data": {
      "image/png": "[encoded data removed]",
      "text/plain": [
       "<Figure size 432x288 with 1 Axes>"
      ]
     },
     "metadata": {
      "needs_background": "light"
     },
     "output_type": "display_data"
    }
   ],
   "source": [
    "plt.title('Daily Confirmed')\n",
    "plt.ylabel('Confirmed Cases')\n",
    "plt.grid(True)\n",
    "plt.autoscale(axis='x', tight=True)\n",
    "plt.plot(df['Daily Confirmed'])\n",
    "plt.plot(x,actual_predictions)\n",
    "plt.show()"
   ]
  },
  {
   "cell_type": "code",
   "execution_count": 28,
   "metadata": {},
   "outputs": [
    {
     "data": {
      "image/png": "[encoded data removed]",
      "text/plain": [
       "<Figure size 432x288 with 1 Axes>"
      ]
     },
     "metadata": {
      "needs_background": "light"
     },
     "output_type": "display_data"
    }
   ],
   "source": [
    "plt.title('Daily Confirmed')\n",
    "plt.ylabel('Confirmed Cases')\n",
    "plt.grid(True)\n",
    "plt.autoscale(axis='x', tight=True)\n",
    "\n",
    "plt.plot(df['Daily Confirmed'][-train_window:])\n",
    "plt.plot(x,actual_predictions)\n",
    "plt.show()"
   ]
  },
  {
   "cell_type": "code",
   "execution_count": 40,
   "metadata": {},
   "outputs": [],
   "source": [
    "import csv\n",
    "from itertools import zip_longest\n",
    "list1 = df['Daily Confirmed'][-train_window:]\n",
    "list2 = actual_predictions\n",
    "d = [list1, list2]\n",
    "export_data = zip_longest(*d, fillvalue = '')\n",
    "with open('numbers.csv', 'w', encoding=\"ISO-8859-1\", newline='') as myfile:\n",
    "      wr = csv.writer(myfile)\n",
    "      wr.writerow((\"List1\", \"List2\"))\n",
    "      wr.writerows(export_data)\n",
    "myfile.close()"
   ]
  },
  {
   "cell_type": "code",
   "execution_count": null,
   "metadata": {},
   "outputs": [],
   "source": []
  }
 ],
 "metadata": {
  "kernelspec": {
   "display_name": "Python 3",
   "language": "python",
   "name": "python3"
  },
  "language_info": {
   "codemirror_mode": {
    "name": "ipython",
    "version": 3
   },
   "file_extension": ".py",
   "mimetype": "text/x-python",
   "name": "python",
   "nbconvert_exporter": "python",
   "pygments_lexer": "ipython3",
   "version": "3.7.6"
  }
 },
 "nbformat": 4,
 "nbformat_minor": 4
}
